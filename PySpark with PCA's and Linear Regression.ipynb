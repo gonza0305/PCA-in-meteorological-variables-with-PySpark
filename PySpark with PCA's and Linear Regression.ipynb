{
 "cells": [
  {
   "cell_type": "code",
   "execution_count": null,
   "metadata": {},
   "outputs": [],
   "source": [
    "#!pip install pyspark"
   ]
  },
  {
   "cell_type": "code",
   "execution_count": null,
   "metadata": {},
   "outputs": [],
   "source": [
    "import sys\n",
    "import os\n",
    "import os.path\n",
    "\n",
    "from pyspark.ml.feature import VectorAssembler\n",
    "from pyspark.context import SparkContext\n",
    "from pyspark.sql.session import SparkSession\n",
    "sc = SparkContext(\"local\")\n",
    "spark = SparkSession(sc)"
   ]
  },
  {
   "cell_type": "code",
   "execution_count": 5,
   "metadata": {},
   "outputs": [],
   "source": [
    "\n",
    "\n",
    "train_sd = spark.read.csv(path='trainst1ns16.csv', header=True, inferSchema=True)\n",
    "test_sd = spark.read.csv(path='testst1ns16.csv', header=True, inferSchema=True)\n",
    "\n",
    "validation_sd = train_sd.filter(train_sd['counter']>=10*365)\n",
    "train_sd = train_sd.filter(train_sd['counter']<10*365)\n",
    "\n",
    "train_sd = train_sd.drop('counter')\n",
    "validation_sd = validation_sd.drop('counter')\n",
    "test_sd = test_sd.drop('counter')\n",
    "\n",
    "#Prepare de data\n",
    "ignore = ['energy']\n",
    "\n",
    "assembler1 = VectorAssembler(\n",
    "    inputCols=[x for x in train_sd.columns if x not in ignore],\n",
    "    outputCol='features')\n",
    "train_sd = assembler1.transform(train_sd).select(['energy', 'features'])\n",
    "\n",
    "assembler2 = VectorAssembler(\n",
    "    inputCols=[x for x in validation_sd.columns if x not in ignore],\n",
    "    outputCol='features')\n",
    "validation_sd = assembler2.transform(validation_sd).select(['energy', 'features'])\n",
    "\n",
    "assembler3 = VectorAssembler(\n",
    "    inputCols=[x for x in test_sd.columns if x not in ignore],\n",
    "    outputCol='features')\n",
    "test_sd = assembler3.transform(test_sd).select(['energy', 'features'])\n"
   ]
  },
  {
   "cell_type": "code",
   "execution_count": 6,
   "metadata": {},
   "outputs": [
    {
     "data": {
      "image/png": "[encoded data removed]",
      "text/plain": [
       "<Figure size 432x288 with 1 Axes>"
      ]
     },
     "metadata": {
      "needs_background": "light"
     },
     "output_type": "display_data"
    },
    {
     "data": {
      "image/png": "[encoded data removed]",
      "text/plain": [
       "<Figure size 432x288 with 1 Axes>"
      ]
     },
     "metadata": {},
     "output_type": "display_data"
    }
   ],
   "source": [
    "from pyspark.ml.regression import DecisionTreeRegressor\n",
    "from pyspark.ml.regression import LinearRegression\n",
    "from pyspark.ml.evaluation import RegressionEvaluator\n",
    "from pyspark.ml.feature import PCA\n",
    "from pyspark.ml.feature import ChiSqSelector\n",
    "from pyspark.ml import Pipeline\n",
    "from pyspark.ml.feature import StandardScaler\n",
    "import matplotlib.pyplot as plt\n",
    "from matplotlib.pyplot import figure\n",
    "\n",
    "ks = []\n",
    "maes=[]\n",
    " \n",
    "for i in range(1,100):\n",
    "  \n",
    "    scaler1 = StandardScaler(inputCol=\"features\", outputCol=\"scaledFeatures\", withStd=False, withMean=True)\n",
    "\n",
    "    pca1 = PCA(k=i, inputCol=\"scaledFeatures\")\n",
    "\n",
    "    dt1 = LinearRegression(featuresCol=pca1.getOutputCol(),labelCol=\"energy\")\n",
    "\n",
    "    pipeline1 = Pipeline(stages=[scaler1, pca1, dt1])\n",
    "\n",
    "    #Train the models\n",
    "    model1 = pipeline1.fit(train_sd)\n",
    "\n",
    "    evaluator = RegressionEvaluator(labelCol=\"energy\", predictionCol=\"prediction\", metricName=\"mae\")\n",
    "\n",
    "    predictions1 = model1.transform(validation_sd)\n",
    "\n",
    "    mae = evaluator.evaluate(predictions1)\n",
    "    ks.append(i)\n",
    "    maes.append(mae)\n",
    "\n",
    "fig = plt.figure()  \n",
    "plt.plot(ks, maes,'-ok', color='r')  \n",
    "plt.xlabel(\"K\")\n",
    "plt.ylabel(\"MAE\")\n",
    "plt.show()  \n",
    "display(fig)"
   ]
  },
  {
   "cell_type": "code",
   "execution_count": 3,
   "metadata": {},
   "outputs": [
    {
     "data": {
      "text/html": [
       "<style scoped>\n",
       "  .ansiout {\n",
       "    display: block;\n",
       "    unicode-bidi: embed;\n",
       "    white-space: pre-wrap;\n",
       "    word-wrap: break-word;\n",
       "    word-break: break-all;\n",
       "    font-family: \"Source Code Pro\", \"Menlo\", monospace;;\n",
       "    font-size: 13px;\n",
       "    color: #555;\n",
       "    margin-left: 4px;\n",
       "    line-height: 19px;\n",
       "  }\n",
       "</style>\n",
       "<div class=\"ansiout\">lower MAE: K = 92, 2174491.5386627107\n",
       "higher MAE: K = 1, 5908416.6622508615\n",
       "</div>"
      ]
     },
     "metadata": {},
     "output_type": "display_data"
    }
   ],
   "source": [
    "minpos = maes.index(min(maes)) \n",
    "maxpos = maes.index(max(maes))  \n",
    "print(\"lower MAE: K = \"+str(minpos+1)+\", \"+str(min(maes)))\n",
    "print(\"higher MAE: K = \"+str(maxpos+1)+\", \"+str(max(maes)))"
   ]
  },
  {
   "cell_type": "code",
   "execution_count": 4,
   "metadata": {},
   "outputs": [],
   "source": [
    "ks = []\n",
    "maes=[]\n",
    "figure(num=None, figsize=(10, 6), dpi=80, facecolor='w', edgecolor='k')\n",
    " \n",
    "for i in range(90,101):\n",
    "  \n",
    "    scaler1 = StandardScaler(inputCol=\"features\", outputCol=\"scaledFeatures\", withStd=False, withMean=True)\n",
    "\n",
    "    pca1 = PCA(k=i, inputCol=\"scaledFeatures\")\n",
    "\n",
    "    dt1 = LinearRegression(featuresCol=pca1.getOutputCol(),labelCol=\"energy\")\n",
    "\n",
    "    pipeline1 = Pipeline(stages=[scaler1, pca1, dt1])\n",
    "\n",
    "    #Train the models\n",
    "    model1 = pipeline1.fit(train_sd)\n",
    "\n",
    "    evaluator = RegressionEvaluator(labelCol=\"energy\", predictionCol=\"prediction\", metricName=\"mae\")\n",
    "\n",
    "    predictions1 = model1.transform(validation_sd)\n",
    "\n",
    "    mae = evaluator.evaluate(predictions1)\n",
    "    ks.append(i)\n",
    "    maes.append(mae)\n",
    "\n",
    "fig = plt.figure()  \n",
    "plt.plot(ks, maes,'-ok', color='r')  \n",
    "plt.xlabel(\"K\")\n",
    "plt.ylabel(\"MAE\")\n",
    "plt.show()  \n",
    "display(fig)"
   ]
  },
  {
   "cell_type": "code",
   "execution_count": 7,
   "metadata": {},
   "outputs": [
    {
     "name": "stdout",
     "output_type": "stream",
     "text": [
      "lower MAE: K = 181, 2174491.5386625496\n",
      "higher MAE: K = 90, 5908416.662250863\n"
     ]
    }
   ],
   "source": [
    "minpos = maes.index(min(maes)) \n",
    "maxpos = maes.index(max(maes))  \n",
    "print(\"lower MAE: K = \"+str(minpos+90)+\", \"+str(min(maes)))\n",
    "print(\"higher MAE: K = \"+str(maxpos+90)+\", \"+str(max(maes)))"
   ]
  },
  {
   "cell_type": "code",
   "execution_count": 9,
   "metadata": {},
   "outputs": [],
   "source": [
    "## Part 2\n",
    "\n",
    "train_sd = spark.read.csv(path='trainst1ns16.csv', header=True, inferSchema=True)\n",
    "test_sd = spark.read.csv(path='testst1ns16.csv', header=True, inferSchema=True)\n",
    "\n",
    "\n",
    "train_validation_sd = train_sd.filter(train_sd['counter']>=0)\n",
    "\n",
    "train_validation_sd = train_sd.drop('counter')\n",
    "test_sd = test_sd.drop('counter')\n",
    "\n",
    "ignore = ['energy']\n",
    "\n",
    "assembler1_2 = VectorAssembler(\n",
    "    inputCols=[x for x in train_validation_sd.columns if x not in ignore],\n",
    "    outputCol='features')\n",
    "train_validation_sd = assembler1_2.transform(train_validation_sd).select(['energy', 'features'])\n",
    "\n",
    "assembler2_2 = VectorAssembler(\n",
    "    inputCols=[x for x in test_sd.columns if x not in ignore],\n",
    "    outputCol='features')\n",
    "test_sd = assembler3.transform(test_sd).select(['energy', 'features'])\n",
    "\n",
    "ks = []\n",
    "maes=[]\n",
    "\n",
    "scaler1 = StandardScaler(inputCol=\"features\", outputCol=\"scaledFeatures\", withStd=False, withMean=True)\n",
    "\n",
    "pca1 = PCA(k=1200, inputCol=\"scaledFeatures\")\n",
    "\n",
    "dt1 = LinearRegression(featuresCol=pca1.getOutputCol(),labelCol=\"energy\")\n",
    "\n",
    "pipeline1 = Pipeline(stages=[scaler1, pca1, dt1])\n",
    "\n",
    "model1 = pipeline1.fit(train_validation_sd)\n",
    "\n",
    "evaluator = RegressionEvaluator(labelCol=\"energy\", predictionCol=\"prediction\", metricName=\"mae\")\n",
    "\n",
    "predictions1 = model1.transform(test_sd)\n",
    "\n",
    "mae = evaluator.evaluate(predictions1)\n",
    "ks.append(1200)\n",
    "maes.append(mae)\n"
   ]
  },
  {
   "cell_type": "code",
   "execution_count": 10,
   "metadata": {},
   "outputs": [
    {
     "name": "stdout",
     "output_type": "stream",
     "text": [
      "MAE with K = 1200 : 2669224.605897426\n"
     ]
    }
   ],
   "source": [
    "print(\"MAE with K = 1200 : \" +str(max(maes)))"
   ]
  },
  {
   "cell_type": "markdown",
   "metadata": {},
   "source": [
    "# Conclusion\n",
    "\n",
    "After this, we can see that with 1200 PCAs we obtain a MAE equal to 2669224.608 which is more or less the same MAE as with 3 PCAs but greater than the MAE obtained 92, which was 2174491.5386627945. Analysing that, we can say that there is a large amount of redundancy in the input attributes that can be eliminated through PCA because only with 3 PCAs can we obtain the same MAE as with the original number of attributes. In order to obtain the highest accuracy we will only need 92 PCAs instead of the 1200 attributes of the data set."
   ]
  }
 ],
 "metadata": {
  "kernelspec": {
   "display_name": "Python 3",
   "language": "python",
   "name": "python3"
  },
  "language_info": {
   "codemirror_mode": {
    "name": "ipython",
    "version": 3
   },
   "file_extension": ".py",
   "mimetype": "text/x-python",
   "name": "python",
   "nbconvert_exporter": "python",
   "pygments_lexer": "ipython3",
   "version": "3.7.6"
  },
  "name": "Fourth Assignment",
  "notebookId": 1630889574554970
 },
 "nbformat": 4,
 "nbformat_minor": 1
}
